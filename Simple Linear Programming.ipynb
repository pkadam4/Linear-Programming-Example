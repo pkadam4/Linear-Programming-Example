{
 "cells": [
  {
   "cell_type": "code",
   "execution_count": 4,
   "metadata": {},
   "outputs": [],
   "source": [
    "from pulp import * "
   ]
  },
  {
   "cell_type": "code",
   "execution_count": 3,
   "metadata": {
    "scrolled": true
   },
   "outputs": [
    {
     "name": "stdout",
     "output_type": "stream",
     "text": [
      "Collecting PuLP\n",
      "  Using cached PuLP-2.3-py3-none-any.whl (40.6 MB)\n",
      "Collecting amply>=0.1.2\n",
      "  Downloading amply-0.1.4-py3-none-any.whl (16 kB)\n",
      "Requirement already satisfied: docutils>=0.3 in c:\\users\\prath\\anaconda3\\lib\\site-packages (from amply>=0.1.2->PuLP) (0.14)\n",
      "Requirement already satisfied: pyparsing in c:\\users\\prath\\anaconda3\\lib\\site-packages (from amply>=0.1.2->PuLP) (2.4.0)\n",
      "Installing collected packages: amply, PuLP\n",
      "Successfully installed PuLP-2.3 amply-0.1.4\n"
     ]
    },
    {
     "name": "stderr",
     "output_type": "stream",
     "text": [
      "WARNING: You are using pip version 20.0.2; however, version 20.2.3 is available.\n",
      "You should consider upgrading via the 'c:\\users\\prath\\anaconda3\\python.exe -m pip install --upgrade pip' command.\n"
     ]
    }
   ],
   "source": [
    "!pip install PuLP"
   ]
  },
  {
   "cell_type": "code",
   "execution_count": 5,
   "metadata": {},
   "outputs": [
    {
     "name": "stderr",
     "output_type": "stream",
     "text": [
      "C:\\Users\\prath\\Anaconda3\\lib\\site-packages\\pulp\\pulp.py:1195: UserWarning: Spaces are not permitted in the name. Converted to '_'\n",
      "  warnings.warn(\"Spaces are not permitted in the name. Converted to '_'\")\n"
     ]
    }
   ],
   "source": [
    "#Initialize model\n",
    "model = LpProblem('Maximize Bakery Profits', LpMaximize)"
   ]
  },
  {
   "cell_type": "code",
   "execution_count": 6,
   "metadata": {},
   "outputs": [],
   "source": [
    "#Define the decision variables\n",
    "A = LpVariable('A',lowBound = 0, cat = 'Integer')\n",
    "B = LpVariable('B',lowBound = 0, cat = 'Integer')"
   ]
  },
  {
   "cell_type": "code",
   "execution_count": 7,
   "metadata": {},
   "outputs": [],
   "source": [
    "#Define the object function\n",
    "model += 20 * A + 40 * B"
   ]
  },
  {
   "cell_type": "code",
   "execution_count": 8,
   "metadata": {},
   "outputs": [],
   "source": [
    "#Define constraints\n",
    "model += 0.5 * A + 1 * B <=30\n",
    "model += 1 * A + 2.5 * B <=60\n",
    "model += 1 * A + 2 *B <=22"
   ]
  },
  {
   "cell_type": "code",
   "execution_count": 9,
   "metadata": {},
   "outputs": [
    {
     "name": "stdout",
     "output_type": "stream",
     "text": [
      "Produce 0.0 Cake A\n",
      "Produce 11.0 Cake B\n"
     ]
    }
   ],
   "source": [
    "#Solve model\n",
    "model.solve()\n",
    "print(\"Produce {} Cake A\".format(A.varValue))\n",
    "print(\"Produce {} Cake B\".format(B.varValue))"
   ]
  }
 ],
 "metadata": {
  "kernelspec": {
   "display_name": "Python 3",
   "language": "python",
   "name": "python3"
  },
  "language_info": {
   "codemirror_mode": {
    "name": "ipython",
    "version": 3
   },
   "file_extension": ".py",
   "mimetype": "text/x-python",
   "name": "python",
   "nbconvert_exporter": "python",
   "pygments_lexer": "ipython3",
   "version": "3.7.3"
  }
 },
 "nbformat": 4,
 "nbformat_minor": 2
}
